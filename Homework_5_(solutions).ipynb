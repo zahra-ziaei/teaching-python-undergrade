{
  "nbformat": 4,
  "nbformat_minor": 0,
  "metadata": {
    "colab": {
      "name": "Homework 5 (solutions)",
      "provenance": [],
      "collapsed_sections": [],
      "include_colab_link": true
    },
    "kernelspec": {
      "name": "python3",
      "display_name": "Python 3"
    }
  },
  "cells": [
    {
      "cell_type": "markdown",
      "metadata": {
        "id": "view-in-github",
        "colab_type": "text"
      },
      "source": [
        "<a href=\"https://colab.research.google.com/github/zahra-ziaei/teaching-python-undergrade/blob/main/Homework_5_(solutions).ipynb\" target=\"_parent\"><img src=\"https://colab.research.google.com/assets/colab-badge.svg\" alt=\"Open In Colab\"/></a>"
      ]
    },
    {
      "cell_type": "markdown",
      "metadata": {
        "id": "VYovBDSbwfYD"
      },
      "source": [
        "# 1. Receptive field and parameter count (1 point)\n",
        "\n",
        "\n",
        "There are many ways to solve this problem, but you can derive a general-purpose formula as follows: Each time you apply a convolution or max-pooling operation, the receptive field grows along a given spatial dimension according to the number of new activations seen in the convolution/pooling window. A convolution or pooling of size $k$ will reveal $k - 1$ *new* (i.e. not including the activation itself) activations from the previous layer. Assuming that the stride is not longer than the kernel size (which is the case in all of the questions here), each time you stride by a factor of $s$ you increase the number of visible activations by a factor of $s$. This leads to the following general-purpose recursion relation for the receptive field $r_l$ at layer $l$:\n",
        "\n",
        "\\begin{align}\n",
        "r_l &= r_{l - 1} + (k_l - 1) t_{l - 1}\\\\\n",
        "t_l &= s_l t_{l - 1}\n",
        "\\end{align}\n",
        "\n",
        "where $k_l$ and $s_l$ are the kernel size and stride at layer $l$, and we define the special cases of $r_0 = t_0 = 1$.\n",
        "\n",
        "Note that the receptive fields for different spatial dimensions are independent, so we can just calculate the receptive field along each spatial dimension separately.\n",
        "\n",
        "1. Consider a convolutional network which consists of three convolutional layers, each with a filter size of 3x3, and a stride of 1x1. What is the receptive field size of one of the activations at the final output?\n",
        "\n",
        "Using the equation above, we have $t_l = 1$ and $k_l - 1 = 3 - 1 = 2$ for all layers. So, we get\n",
        "\\begin{align}\n",
        "r_1 &= 1 + 2 = 3 \\\\\n",
        "r_2 &= r_1 + 2 = 5 \\\\\n",
        "r_3 &= r_2 + 2 = 7\n",
        "\\end{align}\n",
        "The filter size and strides are the same along each axis, so the final receptive field is **7x7**.\n",
        "\n",
        "1. What is the receptive field if the stride is 2x3 at each layer?\n",
        "\n",
        "Width:\n",
        "\\begin{align}\n",
        "r_1 &= 1 + (3 - 1) * 1 = 3\\\\\n",
        "t_1 &= 2 * 1 = 2 \\\\\n",
        "r_2 &= 3 + (3 - 1) * 2 = 7\\\\\n",
        "t_2 &= 2 * 2 = 4 \\\\\n",
        "r_3 &= 3 + (3 - 1) * 4 = 15\\\\\n",
        "\\end{align}\n",
        "Height:\n",
        "\\begin{align}\n",
        "r_1 &= 1 + (3 - 1) * 1 = 3\\\\\n",
        "t_1 &= 3 * 1 = 3 \\\\\n",
        "r_2 &= 3 + (3 - 1) * 3 = 9\\\\\n",
        "t_2 &= 3 * 3 = 9 \\\\\n",
        "r_3 &= 9 + (3 - 1) * 9 = 27\\\\\n",
        "\\end{align}\n",
        "\n",
        "So, the final receptive field size is **15x27**.\n",
        "\n",
        "1. What is the receptive field if the stride is 2x2 at each layer, and there is a 2x2 max-pooling layer with stride 2x2 after each convolutional layer?\n",
        "\n",
        "Note that we index layers including max pooling layers, so that ultimately max pooling layers have even indices and convolutional layers have odd indices.\n",
        "\n",
        "\\begin{align}\n",
        "r_1 &= 1 + (3 - 1) * 1 = 3\\\\\n",
        "t_1 &= 2 * 1 = 2 \\\\\n",
        "r_2 &= 3 + (2 - 1) * 2 = 5\\\\\n",
        "t_2 &= 2 * 2 = 4 \\\\\n",
        "r_3 &= 5 + (3 - 1) * 4 = 13\\\\\n",
        "t_3 &= 2 * 4 = 8 \\\\\n",
        "r_4 &= 13 + (2 - 1) * 8 = 21 \\\\\n",
        "t_4 &= 2 * 8 = 16 \\\\\n",
        "r_5 &= 21 + (3 - 1) * 16 = 53 \\\\\n",
        "t_5 &= 2 * 16 = 32 \\\\\n",
        "r_6 &= 53 + (2 - 1) * 32 = 85 \\\\\n",
        "\\end{align}\n",
        "\n",
        "The final receptive field is **85x85**.\n",
        "\n",
        "1. Assume that the input image has 3 channels, the three convolutional layers have 16, 32, and 64 channels respectively, and that there are no biases on any of the layers. How many parameters does the network have?\n",
        "\n",
        "The total number of parameters (where each term on the left corresponds to one of the layers) is $3*16*3*3 + 16*32*3*3 + 32*64*3*3 = 23472$."
      ]
    }
  ]
}