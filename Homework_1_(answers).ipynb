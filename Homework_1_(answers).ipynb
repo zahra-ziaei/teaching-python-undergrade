{
  "nbformat": 4,
  "nbformat_minor": 0,
  "metadata": {
    "colab": {
      "name": "Homework 1 (answers).ipynb",
      "provenance": [],
      "collapsed_sections": [],
      "include_colab_link": true
    },
    "kernelspec": {
      "name": "python3",
      "display_name": "Python 3"
    }
  },
  "cells": [
    {
      "cell_type": "markdown",
      "metadata": {
        "id": "view-in-github",
        "colab_type": "text"
      },
      "source": [
        "<a href=\"https://colab.research.google.com/github/zahra-ziaei/teaching-python-undergrade/blob/main/Homework_1_(answers).ipynb\" target=\"_parent\"><img src=\"https://colab.research.google.com/assets/colab-badge.svg\" alt=\"Open In Colab\"/></a>"
      ]
    },
    {
      "cell_type": "code",
      "metadata": {
        "id": "pp-R4v8eehJ4"
      },
      "source": [
        "import numpy as np\n",
        "import matplotlib.pyplot as plt"
      ],
      "execution_count": null,
      "outputs": []
    },
    {
      "cell_type": "code",
      "metadata": {
        "id": "up2bDpU9fCk3"
      },
      "source": [
        "def generate_data():\n",
        "    size = 1000\n",
        "    x = np.linspace(0, 1, size)\n",
        "    y = -10*x + 5\n",
        "    y += 15*np.logical_and(x > 0.75, x < 0.8).astype(float)\n",
        "    return x, y"
      ],
      "execution_count": null,
      "outputs": []
    },
    {
      "cell_type": "markdown",
      "metadata": {
        "id": "hTUMzQT3f0wm"
      },
      "source": [
        "# 1. Inspect the data (0.5 points)\n",
        "\n",
        "Using `matplotlib`, create a scatter plot of the data returned by `generate_data()`.\n",
        "What is out of the ordinary about this line?"
      ]
    },
    {
      "cell_type": "code",
      "metadata": {
        "colab": {
          "base_uri": "https://localhost:8080/",
          "height": 282
        },
        "id": "eEfr6MfZfkyh",
        "outputId": "cc3c9359-0fa5-4ed5-c448-44ca353db220"
      },
      "source": [
        "plt.scatter(*generate_data())\n",
        "# There are outliers near 0.8"
      ],
      "execution_count": null,
      "outputs": [
        {
          "output_type": "execute_result",
          "data": {
            "text/plain": [
              "<matplotlib.collections.PathCollection at 0x7f8684a612b0>"
            ]
          },
          "metadata": {
            "tags": []
          },
          "execution_count": 3
        },
        {
          "output_type": "display_data",
          "data": {
            "image/png": "[encoded data removed]",
            "text/plain": [
              "<Figure size 432x288 with 1 Axes>"
            ]
          },
          "metadata": {
            "tags": [],
            "needs_background": "light"
          }
        }
      ]
    },
    {
      "cell_type": "markdown",
      "metadata": {
        "id": "DhgvBYNRfzG4"
      },
      "source": [
        "# 2. Implement linear regression (2 points)\n",
        "\n",
        "Implement a basic linear regression model which is fit to the data from `generate_data` using gradient descent.\n",
        "Your model should take the form `y = m*x + b`, where `y` is the output, `x` is the input, `m` is a weight parameter, and `b` is a bias parameter.\n",
        "You must use only `numpy` and derive any derivatives yourself (i.e. no autograd from TensorFlow, MXNet, Pytorch, JAX etc!).\n",
        "You should use a squared-error loss function.\n",
        "You are welcome to use any technique you want to decide when to stop training.\n",
        "Make sure you tune your optimization hyperparameters so that the model converges.\n",
        "Print out or plot the loss over the course of training."
      ]
    },
    {
      "cell_type": "code",
      "metadata": {
        "colab": {
          "base_uri": "https://localhost:8080/",
          "height": 296
        },
        "id": "RjPjNFSugtci",
        "outputId": "edcef51e-8954-475b-efb6-15556d91e37d"
      },
      "source": [
        "weight = 1.\n",
        "bias = 0.\n",
        "def model(inputs):\n",
        "    return weight * inputs + bias\n",
        "def loss(inputs, targets):\n",
        "    return np.mean(.5*(model(inputs) - targets)**2)\n",
        "def dloss_dmodel(inputs, targets):\n",
        "    return model(inputs) - targets\n",
        "def weight_update(inputs, targets):\n",
        "    return np.mean(inputs*dloss_dmodel(inputs, targets))\n",
        "def bias_update(inputs, targets):\n",
        "    return np.mean(dloss_dmodel(inputs, targets))\n",
        "\n",
        "learning_rate = 0.1\n",
        "\n",
        "losses = []\n",
        "inputs, targets = generate_data()\n",
        "for _ in range(1000):\n",
        "    new_weight = weight - learning_rate*weight_update(inputs, targets)\n",
        "    new_bias = bias - learning_rate*bias_update(inputs, targets)\n",
        "    weight = new_weight\n",
        "    bias = new_bias\n",
        "    losses.append(loss(inputs, targets))\n",
        "\n",
        "plt.plot(losses)\n",
        "plt.xlabel(\"Iteration\")\n",
        "plt.ylabel(\"Loss\")"
      ],
      "execution_count": null,
      "outputs": [
        {
          "output_type": "execute_result",
          "data": {
            "text/plain": [
              "Text(0, 0.5, 'Loss')"
            ]
          },
          "metadata": {
            "tags": []
          },
          "execution_count": 4
        },
        {
          "output_type": "display_data",
          "data": {
            "image/png": "[encoded data removed]",
            "text/plain": [
              "<Figure size 432x288 with 1 Axes>"
            ]
          },
          "metadata": {
            "tags": [],
            "needs_background": "light"
          }
        }
      ]
    },
    {
      "cell_type": "markdown",
      "metadata": {
        "id": "p10i06F4KCJl"
      },
      "source": [
        "# 3. Analyze the result (0.5 points)\n",
        "\n",
        "Print out the values of `w` and `b` found by your model after training and compare them to the ground truth values (which can be found inside the code of the `generate_data` function).\n",
        "Are they close?\n",
        "Recreate the scatter plot you generated in question 1 and plot the model as a line on the same plot.\n",
        "What went wrong?\n"
      ]
    },
    {
      "cell_type": "code",
      "metadata": {
        "colab": {
          "base_uri": "https://localhost:8080/",
          "height": 281
        },
        "id": "pS11vK3nkK_c",
        "outputId": "7f2a9ac2-2bc1-4343-a582-204505ea6629"
      },
      "source": [
        "plt.scatter(*generate_data())\n",
        "plt.plot(np.linspace(0, 1, 100), weight*np.linspace(0, 1, 100) + bias, 'r', lw=3)\n",
        "plt.title(f\"y = {weight:.2f}x + {bias:.2f}\");\n",
        "# The outliers cause the line to drift away from the true values."
      ],
      "execution_count": null,
      "outputs": [
        {
          "output_type": "display_data",
          "data": {
            "image/png": "[encoded data removed]",
            "text/plain": [
              "<Figure size 432x288 with 1 Axes>"
            ]
          },
          "metadata": {
            "tags": [],
            "needs_background": "light"
          }
        }
      ]
    },
    {
      "cell_type": "markdown",
      "metadata": {
        "id": "PtnLN-bol1Qv"
      },
      "source": [
        "# 4. \"Robust\" linear regression (0.5 point)\n",
        "\n",
        "Implement a linear regression model exactly like the one you created in question 2, except using a L1 loss (absolute difference) instead of a squared L2 loss (squared error).\n",
        "You should be able to copy and paste your code from question 2 and only change a few lines.\n",
        "Print out or plot the loss over the course of training.\n",
        "What is different about the loss trajectory compared to the squared-error linear regression?"
      ]
    },
    {
      "cell_type": "code",
      "metadata": {
        "colab": {
          "base_uri": "https://localhost:8080/",
          "height": 296
        },
        "id": "TSCjJq0VLDRT",
        "outputId": "944e0439-01e0-48cb-eec1-082439f6d61f"
      },
      "source": [
        "weight = 1.\n",
        "bias = 0.\n",
        "def model(inputs):\n",
        "    return weight * inputs + bias\n",
        "def loss(inputs, targets):\n",
        "    return np.mean(np.abs(model(inputs) - targets))\n",
        "def dloss_dmodel(inputs, targets):\n",
        "    return 2*np.greater(model(inputs) - targets, 0).astype(float) - 1\n",
        "def weight_update(inputs, targets):\n",
        "    return np.mean(inputs*dloss_dmodel(inputs, targets))\n",
        "def bias_update(inputs, targets):\n",
        "    return np.mean(dloss_dmodel(inputs, targets))\n",
        "\n",
        "learning_rate = 0.1\n",
        "\n",
        "losses = []\n",
        "inputs, targets = generate_data()\n",
        "for _ in range(1000):\n",
        "    new_weight = weight - learning_rate*weight_update(inputs, targets)\n",
        "    new_bias = bias - learning_rate*bias_update(inputs, targets)\n",
        "    weight = new_weight\n",
        "    bias = new_bias\n",
        "    losses.append(loss(inputs, targets))\n",
        "\n",
        "plt.plot(losses)\n",
        "plt.xlabel(\"Iteration\")\n",
        "plt.ylabel(\"Loss\")\n",
        "\n",
        "# The loss decreases linearly and fluctuates near the minimum."
      ],
      "execution_count": null,
      "outputs": [
        {
          "output_type": "execute_result",
          "data": {
            "text/plain": [
              "Text(0, 0.5, 'Loss')"
            ]
          },
          "metadata": {
            "tags": []
          },
          "execution_count": 8
        },
        {
          "output_type": "display_data",
          "data": {
            "image/png": "[encoded data removed]",
            "text/plain": [
              "<Figure size 432x288 with 1 Axes>"
            ]
          },
          "metadata": {
            "tags": [],
            "needs_background": "light"
          }
        }
      ]
    },
    {
      "cell_type": "markdown",
      "metadata": {
        "id": "xT_JGyk7LXTH"
      },
      "source": [
        "# 5. Analyze the result (0.5 points)\n",
        "\n",
        "Print out the new values of `w` and `b` found by your model after training.\n",
        "Are they closer to the true values used in `generate_data`?\n",
        "Plot the model as a line again.\n",
        "Why do you think the behavior is different?"
      ]
    },
    {
      "cell_type": "code",
      "metadata": {
        "colab": {
          "base_uri": "https://localhost:8080/",
          "height": 281
        },
        "id": "-ZAgCbU1Li0J",
        "outputId": "a94baa4a-e0e5-40a2-86e2-239795fe43c5"
      },
      "source": [
        "plt.scatter(*generate_data())\n",
        "plt.plot(np.linspace(0, 1, 100), weight*np.linspace(0, 1, 100) + bias, 'r', lw=3)\n",
        "plt.title(f\"y = {weight:.2f}x + {bias:.2f}\");\n",
        "# The L1 loss is more robust to outliers, see https://en.wikipedia.org/wiki/Robust_regression"
      ],
      "execution_count": null,
      "outputs": [
        {
          "output_type": "display_data",
          "data": {
            "image/png": "[encoded data removed]",
            "text/plain": [
              "<Figure size 432x288 with 1 Axes>"
            ]
          },
          "metadata": {
            "tags": [],
            "needs_background": "light"
          }
        }
      ]
    }
  ]
}