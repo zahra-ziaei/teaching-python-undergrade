{
  "nbformat": 4,
  "nbformat_minor": 0,
  "metadata": {
    "colab": {
      "name": "Untitled2.ipynb",
      "provenance": [],
      "authorship_tag": "ABX9TyM83xFih9ePo0hGmvBrXoyB",
      "include_colab_link": true
    },
    "kernelspec": {
      "name": "python3",
      "display_name": "Python 3"
    },
    "language_info": {
      "name": "python"
    }
  },
  "cells": [
    {
      "cell_type": "markdown",
      "metadata": {
        "id": "view-in-github",
        "colab_type": "text"
      },
      "source": [
        "<a href=\"https://colab.research.google.com/github/zahra-ziaei/teaching-python-undergrade/blob/main/Untitled2.ipynb\" target=\"_parent\"><img src=\"https://colab.research.google.com/assets/colab-badge.svg\" alt=\"Open In Colab\"/></a>"
      ]
    },
    {
      "cell_type": "code",
      "execution_count": 1,
      "metadata": {
        "id": "z-fi35jnkKpx"
      },
      "outputs": [],
      "source": [
        "import numpy as np\n",
        "import matplotlib.pyplot as plt\n",
        "from sklearn.neighbors import KernelDensity"
      ]
    },
    {
      "cell_type": "code",
      "source": [
        "def make_data(N, f=0.3, rseed=1):\n",
        "    rand = np.random.RandomState(rseed)\n",
        "    x = rand.randn(N)\n",
        "    x[int(f * N):] += 5\n",
        "    return x"
      ],
      "metadata": {
        "id": "oOdU4CQbkYp_"
      },
      "execution_count": 2,
      "outputs": []
    },
    {
      "cell_type": "code",
      "source": [
        "x = make_data(1000)\n",
        "x_d = np.linspace(-4, 8, 2000)"
      ],
      "metadata": {
        "id": "5y4qi4QVkbYy"
      },
      "execution_count": 31,
      "outputs": []
    },
    {
      "cell_type": "code",
      "source": [
        "kde = KernelDensity(bandwidth= 0.35111917342151316, kernel='gaussian')\n",
        "kdeL=KernelDensity(bandwidth=4,kernel='linear')"
      ],
      "metadata": {
        "id": "mPtzlZ6Ukihy"
      },
      "execution_count": 63,
      "outputs": []
    },
    {
      "cell_type": "code",
      "source": [
        "kde.fit(x[:, None])\n",
        "kdeL.fit(x[:,None])"
      ],
      "metadata": {
        "colab": {
          "base_uri": "https://localhost:8080/"
        },
        "id": "40vegsKZklVE",
        "outputId": "95bb150c-5efa-41e3-a1e7-6ef20998cd2b"
      },
      "execution_count": 65,
      "outputs": [
        {
          "output_type": "execute_result",
          "data": {
            "text/plain": [
              "KernelDensity(bandwidth=4, kernel='linear')"
            ]
          },
          "metadata": {},
          "execution_count": 65
        }
      ]
    },
    {
      "cell_type": "code",
      "source": [
        "logprob=kde.score_samples(x_d[:,None])\n",
        "logprobL=kdeL.score_samples(x_d[:,None])"
      ],
      "metadata": {
        "id": "P4QrVdhdk1Sf"
      },
      "execution_count": 66,
      "outputs": []
    },
    {
      "cell_type": "code",
      "source": [
        "plt.plot(x_d,np.exp(logprobL))"
      ],
      "metadata": {
        "colab": {
          "base_uri": "https://localhost:8080/",
          "height": 283
        },
        "id": "hqbVm_mPrYxA",
        "outputId": "7f2bb199-6d06-4786-cefa-28f1f4107eb7"
      },
      "execution_count": 48,
      "outputs": [
        {
          "output_type": "execute_result",
          "data": {
            "text/plain": [
              "[<matplotlib.lines.Line2D at 0x7ffbb6cb45d0>]"
            ]
          },
          "metadata": {},
          "execution_count": 48
        },
        {
          "output_type": "display_data",
          "data": {
            "image/png": "[encoded data removed]",
            "text/plain": [
              "<Figure size 432x288 with 1 Axes>"
            ]
          },
          "metadata": {
            "needs_background": "light"
          }
        }
      ]
    },
    {
      "cell_type": "code",
      "source": [
        "plt.plot(x_d, np.exp(logprob))"
      ],
      "metadata": {
        "colab": {
          "base_uri": "https://localhost:8080/",
          "height": 283
        },
        "id": "CNQknLbVlFUR",
        "outputId": "131bac49-cf39-47ec-e9ed-5aaf417f6161"
      },
      "execution_count": 67,
      "outputs": [
        {
          "output_type": "execute_result",
          "data": {
            "text/plain": [
              "[<matplotlib.lines.Line2D at 0x7ffbb724d9d0>]"
            ]
          },
          "metadata": {},
          "execution_count": 67
        },
        {
          "output_type": "display_data",
          "data": {
            "image/png": "[encoded data removed]",
            "text/plain": [
              "<Figure size 432x288 with 1 Axes>"
            ]
          },
          "metadata": {
            "needs_background": "light"
          }
        }
      ]
    },
    {
      "cell_type": "code",
      "source": [
        "from sklearn.model_selection import RandomizedSearchCV\n",
        "from sklearn.model_selection import GridSearchCV\n",
        "from sklearn.model_selection import train_test_split\n",
        "from sklearn.model_selection import LeaveOneOut"
      ],
      "metadata": {
        "id": "Oj6U55dQt4SK"
      },
      "execution_count": 57,
      "outputs": []
    },
    {
      "cell_type": "code",
      "source": [
        "bandwidths = 10 ** np.linspace(-1, 1, 100)"
      ],
      "metadata": {
        "id": "hyLagVSOupFg"
      },
      "execution_count": 51,
      "outputs": []
    },
    {
      "cell_type": "code",
      "source": [
        "grid = GridSearchCV(KernelDensity(kernel='gaussian'),\n",
        "                    {'bandwidth': bandwidths},\n",
        "                    cv=LeaveOneOut())\n",
        "\n",
        "grid.fit(x[:, None]);"
      ],
      "metadata": {
        "id": "YXxDsYbKvFGk"
      },
      "execution_count": 60,
      "outputs": []
    },
    {
      "cell_type": "code",
      "source": [
        "grid.best_params_"
      ],
      "metadata": {
        "colab": {
          "base_uri": "https://localhost:8080/"
        },
        "id": "mqUWjCqlwpoJ",
        "outputId": "3ad6e2e6-f6e7-4922-faf5-505f83a0968b"
      },
      "execution_count": 61,
      "outputs": [
        {
          "output_type": "execute_result",
          "data": {
            "text/plain": [
              "{'bandwidth': 0.35111917342151316}"
            ]
          },
          "metadata": {},
          "execution_count": 61
        }
      ]
    }
  ]
}